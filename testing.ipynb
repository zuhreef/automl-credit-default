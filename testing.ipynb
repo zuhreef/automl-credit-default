{
 "cells": [
  {
   "cell_type": "code",
   "execution_count": 2,
   "id": "0dfdcd6b-8ba1-4906-89cc-5a9b4765ac54",
   "metadata": {},
   "outputs": [
    {
     "name": "stdout",
     "output_type": "stream",
     "text": [
      "Train shape: (24000, 23) Test shape: (6000, 23)\n",
      "Scaled train shape: (24000, 23)\n"
     ]
    }
   ],
   "source": [
    "import pandas as pd\n",
    "from src.preprocessing import train_test_split_data, build_preprocessor\n",
    "\n",
    "# Load cleaned dataset\n",
    "df = pd.read_csv(\"data/credit_clean.csv\")\n",
    "\n",
    "# Train/test split\n",
    "X_train, X_test, y_train, y_test = train_test_split_data(df)\n",
    "print(\"Train shape:\", X_train.shape, \"Test shape:\", X_test.shape)\n",
    "\n",
    "# Build and fit preprocessor\n",
    "pre = build_preprocessor(X_train)\n",
    "X_train_scaled = pre.fit_transform(X_train)\n",
    "X_test_scaled = pre.transform(X_test)\n",
    "\n",
    "print(\"Scaled train shape:\", X_train_scaled.shape)\n"
   ]
  },
  {
   "cell_type": "code",
   "execution_count": 3,
   "id": "4c4dfa06-e5f8-4152-8df2-4aacb379d249",
   "metadata": {},
   "outputs": [
    {
     "name": "stdout",
     "output_type": "stream",
     "text": [
      "Original features: 23\n",
      "Selected features: 12\n"
     ]
    }
   ],
   "source": [
    "import pandas as pd\n",
    "from src.preprocessing import train_test_split_data, build_preprocessor\n",
    "from src.feature_selection import make_selector\n",
    "\n",
    "# Load dataset\n",
    "df = pd.read_csv(\"data/credit_clean.csv\")\n",
    "X_train, X_test, y_train, y_test = train_test_split_data(df)\n",
    "\n",
    "# Preprocess\n",
    "pre = build_preprocessor(X_train)\n",
    "X_train_scaled = pre.fit_transform(X_train)\n",
    "X_test_scaled = pre.transform(X_test)\n",
    "\n",
    "# Feature selector\n",
    "selector = make_selector()\n",
    "selector.fit(X_train_scaled, y_train)\n",
    "\n",
    "print(\"Original features:\", X_train.shape[1])\n",
    "print(\"Selected features:\", selector.transform(X_train_scaled).shape[1])\n"
   ]
  },
  {
   "cell_type": "code",
   "execution_count": 4,
   "id": "d527e0fa-2de3-42bc-8330-f53eb82fc0c2",
   "metadata": {},
   "outputs": [
    {
     "data": {
      "text/plain": [
       "{'logreg': (np.float64(0.3614032923647821), np.float64(0.012768982537802153)),\n",
       " 'rf': (np.float64(0.4722572800038461), np.float64(0.00857807580988941))}"
      ]
     },
     "execution_count": 4,
     "metadata": {},
     "output_type": "execute_result"
    }
   ],
   "source": [
    "import pandas as pd\n",
    "from sklearn.pipeline import Pipeline\n",
    "\n",
    "from src.preprocessing import train_test_split_data, build_preprocessor\n",
    "from src.feature_selection import make_selector\n",
    "from src.model_selection import candidate_models, evaluate_models\n",
    "\n",
    "# Load and split\n",
    "df = pd.read_csv(\"data/credit_clean.csv\")\n",
    "X_train, X_test, y_train, y_test = train_test_split_data(df)\n",
    "\n",
    "# Build pipeline pieces\n",
    "pre = build_preprocessor(X_train)\n",
    "selector = make_selector()\n",
    "\n",
    "# Evaluate baselines via CV (on the raw X/y; we’ll wrap in pipeline per-model)\n",
    "from sklearn.model_selection import StratifiedKFold, cross_val_score\n",
    "from sklearn.metrics import make_scorer, f1_score\n",
    "\n",
    "models = candidate_models()\n",
    "cv = StratifiedKFold(n_splits=5, shuffle=True, random_state=42)\n",
    "scorer = make_scorer(f1_score)\n",
    "\n",
    "cv_results = {}\n",
    "for name, clf in models.items():\n",
    "    pipe = Pipeline([(\"pre\", pre), (\"sel\", selector), (\"clf\", clf)])\n",
    "    scores = cross_val_score(pipe, X_train, y_train, cv=cv, scoring=scorer, n_jobs=-1)\n",
    "    cv_results[name] = (scores.mean(), scores.std())\n",
    "\n",
    "cv_results\n"
   ]
  },
  {
   "cell_type": "code",
   "execution_count": null,
   "id": "abb6996b-caaa-4116-bed8-7e79336f6af6",
   "metadata": {},
   "outputs": [],
   "source": []
  }
 ],
 "metadata": {
  "kernelspec": {
   "display_name": "Python 3 (ipykernel)",
   "language": "python",
   "name": "python3"
  },
  "language_info": {
   "codemirror_mode": {
    "name": "ipython",
    "version": 3
   },
   "file_extension": ".py",
   "mimetype": "text/x-python",
   "name": "python",
   "nbconvert_exporter": "python",
   "pygments_lexer": "ipython3",
   "version": "3.9.13"
  }
 },
 "nbformat": 4,
 "nbformat_minor": 5
}
