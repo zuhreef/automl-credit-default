{
 "cells": [
  {
   "cell_type": "code",
   "execution_count": 1,
   "id": "511139aa-0096-429f-9321-0095d9f56403",
   "metadata": {},
   "outputs": [
    {
     "name": "stderr",
     "output_type": "stream",
     "text": [
      "C:\\Users\\tabed\\venv\\lib\\site-packages\\tqdm\\auto.py:21: TqdmWarning: IProgress not found. Please update jupyter and ipywidgets. See https://ipywidgets.readthedocs.io/en/stable/user_install.html\n",
      "  from .autonotebook import tqdm as notebook_tqdm\n",
      "[I 2025-08-21 20:58:55,999] A new study created in memory with name: no-name-d3bd416a-ad24-42b0-a39f-aa711940f817\n",
      "[I 2025-08-21 20:59:23,383] Trial 0 finished with value: 0.47605022651416384 and parameters: {'n_estimators': 400, 'max_depth': 20, 'min_samples_split': 20, 'min_samples_leaf': 3, 'max_features': 0.6269155499573901, 'bootstrap': False}. Best is trial 0 with value: 0.47605022651416384.\n",
      "[I 2025-08-21 20:59:47,047] Trial 1 finished with value: 0.468836874897942 and parameters: {'n_estimators': 900, 'max_depth': 10, 'min_samples_split': 10, 'min_samples_leaf': 7, 'max_features': 0.4471198193024762, 'bootstrap': True}. Best is trial 0 with value: 0.47605022651416384.\n",
      "[I 2025-08-21 20:59:55,474] Trial 2 finished with value: 0.47193607336379173 and parameters: {'n_estimators': 200, 'max_depth': 25, 'min_samples_split': 8, 'min_samples_leaf': 1, 'max_features': 0.5230472530670939, 'bootstrap': True}. Best is trial 0 with value: 0.47605022651416384.\n",
      "[I 2025-08-21 21:00:33,087] Trial 3 finished with value: 0.4746511817166619 and parameters: {'n_estimators': 600, 'max_depth': 27, 'min_samples_split': 12, 'min_samples_leaf': 5, 'max_features': 0.9422887598468901, 'bootstrap': True}. Best is trial 0 with value: 0.47605022651416384.\n",
      "[I 2025-08-21 21:00:53,315] Trial 4 finished with value: 0.47279528322513825 and parameters: {'n_estimators': 300, 'max_depth': 15, 'min_samples_split': 3, 'min_samples_leaf': 7, 'max_features': 0.8316052545399684, 'bootstrap': False}. Best is trial 0 with value: 0.47605022651416384.\n",
      "[I 2025-08-21 21:01:01,396] Trial 5 finished with value: 0.44250923725461516 and parameters: {'n_estimators': 600, 'max_depth': 3, 'min_samples_split': 9, 'min_samples_leaf': 1, 'max_features': 0.8213151109879044, 'bootstrap': True}. Best is trial 0 with value: 0.47605022651416384.\n",
      "[I 2025-08-21 21:01:13,970] Trial 6 finished with value: 0.47063071322488303 and parameters: {'n_estimators': 600, 'max_depth': 10, 'min_samples_split': 12, 'min_samples_leaf': 10, 'max_features': 0.4344988854688872, 'bootstrap': True}. Best is trial 0 with value: 0.47605022651416384.\n",
      "[I 2025-08-21 21:01:29,251] Trial 7 finished with value: 0.4706467879709578 and parameters: {'n_estimators': 600, 'max_depth': 10, 'min_samples_split': 5, 'min_samples_leaf': 5, 'max_features': 0.5649515905440562, 'bootstrap': True}. Best is trial 0 with value: 0.47605022651416384.\n",
      "[I 2025-08-21 21:02:37,359] Trial 8 finished with value: 0.47153226987701047 and parameters: {'n_estimators': 900, 'max_depth': 17, 'min_samples_split': 11, 'min_samples_leaf': 9, 'max_features': 0.9068510701303778, 'bootstrap': False}. Best is trial 0 with value: 0.47605022651416384.\n",
      "[I 2025-08-21 21:03:32,895] Trial 9 finished with value: 0.4748248814212969 and parameters: {'n_estimators': 900, 'max_depth': 28, 'min_samples_split': 12, 'min_samples_leaf': 3, 'max_features': 0.8712572192605115, 'bootstrap': True}. Best is trial 0 with value: 0.47605022651416384.\n",
      "[I 2025-08-21 21:04:02,902] Trial 10 finished with value: 0.4741454436279352 and parameters: {'n_estimators': 400, 'max_depth': 21, 'min_samples_split': 19, 'min_samples_leaf': 3, 'max_features': 0.6770572608419843, 'bootstrap': False}. Best is trial 0 with value: 0.47605022651416384.\n",
      "[I 2025-08-21 21:04:32,803] Trial 11 finished with value: 0.4753566504939896 and parameters: {'n_estimators': 400, 'max_depth': 28, 'min_samples_split': 20, 'min_samples_leaf': 3, 'max_features': 0.7061864033723856, 'bootstrap': False}. Best is trial 0 with value: 0.47605022651416384.\n",
      "[I 2025-08-21 21:05:02,110] Trial 12 finished with value: 0.47713136678654716 and parameters: {'n_estimators': 400, 'max_depth': 22, 'min_samples_split': 20, 'min_samples_leaf': 3, 'max_features': 0.7015290995891195, 'bootstrap': False}. Best is trial 12 with value: 0.47713136678654716.\n",
      "[I 2025-08-21 21:05:35,689] Trial 13 finished with value: 0.4753345508217818 and parameters: {'n_estimators': 400, 'max_depth': 21, 'min_samples_split': 16, 'min_samples_leaf': 4, 'max_features': 0.7397304784114497, 'bootstrap': False}. Best is trial 12 with value: 0.47713136678654716.\n",
      "[I 2025-08-21 21:05:42,278] Trial 14 finished with value: 0.4704645265317685 and parameters: {'n_estimators': 200, 'max_depth': 22, 'min_samples_split': 16, 'min_samples_leaf': 2, 'max_features': 0.3190737190438526, 'bootstrap': False}. Best is trial 12 with value: 0.47713136678654716.\n",
      "[I 2025-08-21 21:06:12,072] Trial 15 finished with value: 0.47744530401357865 and parameters: {'n_estimators': 500, 'max_depth': 17, 'min_samples_split': 17, 'min_samples_leaf': 7, 'max_features': 0.5992856034010371, 'bootstrap': False}. Best is trial 15 with value: 0.47744530401357865.\n",
      "[I 2025-08-21 21:06:57,828] Trial 16 finished with value: 0.4746508272676282 and parameters: {'n_estimators': 700, 'max_depth': 15, 'min_samples_split': 16, 'min_samples_leaf': 7, 'max_features': 0.7551522921826241, 'bootstrap': False}. Best is trial 15 with value: 0.47744530401357865.\n",
      "[I 2025-08-21 21:07:25,466] Trial 17 finished with value: 0.4778550592639997 and parameters: {'n_estimators': 500, 'max_depth': 17, 'min_samples_split': 18, 'min_samples_leaf': 8, 'max_features': 0.5986907659926701, 'bootstrap': False}. Best is trial 17 with value: 0.4778550592639997.\n",
      "[I 2025-08-21 21:07:58,746] Trial 18 finished with value: 0.4777613281514723 and parameters: {'n_estimators': 700, 'max_depth': 13, 'min_samples_split': 14, 'min_samples_leaf': 8, 'max_features': 0.588985462096373, 'bootstrap': False}. Best is trial 17 with value: 0.4778550592639997.\n",
      "[I 2025-08-21 21:08:18,774] Trial 19 finished with value: 0.46793446503707836 and parameters: {'n_estimators': 800, 'max_depth': 7, 'min_samples_split': 14, 'min_samples_leaf': 9, 'max_features': 0.5118387779148922, 'bootstrap': False}. Best is trial 17 with value: 0.4778550592639997.\n",
      "[I 2025-08-21 21:09:09,238] Trial 20 finished with value: 0.4668949542657197 and parameters: {'n_estimators': 700, 'max_depth': 13, 'min_samples_split': 14, 'min_samples_leaf': 8, 'max_features': 0.9968258782183622, 'bootstrap': False}. Best is trial 17 with value: 0.4778550592639997.\n",
      "[I 2025-08-21 21:09:37,894] Trial 21 finished with value: 0.4739759009233734 and parameters: {'n_estimators': 500, 'max_depth': 18, 'min_samples_split': 18, 'min_samples_leaf': 6, 'max_features': 0.6157755639435832, 'bootstrap': False}. Best is trial 17 with value: 0.4778550592639997.\n",
      "[I 2025-08-21 21:10:01,999] Trial 22 finished with value: 0.4764186101723361 and parameters: {'n_estimators': 500, 'max_depth': 13, 'min_samples_split': 17, 'min_samples_leaf': 8, 'max_features': 0.610579851146816, 'bootstrap': False}. Best is trial 17 with value: 0.4778550592639997.\n",
      "[I 2025-08-21 21:10:31,135] Trial 23 finished with value: 0.47553034113179926 and parameters: {'n_estimators': 700, 'max_depth': 18, 'min_samples_split': 14, 'min_samples_leaf': 8, 'max_features': 0.4387672349364007, 'bootstrap': False}. Best is trial 17 with value: 0.4778550592639997.\n",
      "[I 2025-08-21 21:10:52,519] Trial 24 finished with value: 0.475430931487121 and parameters: {'n_estimators': 500, 'max_depth': 14, 'min_samples_split': 15, 'min_samples_leaf': 10, 'max_features': 0.5593905510592988, 'bootstrap': False}. Best is trial 17 with value: 0.4778550592639997.\n",
      "[I 2025-08-21 21:11:06,634] Trial 25 finished with value: 0.4690048730906196 and parameters: {'n_estimators': 800, 'max_depth': 7, 'min_samples_split': 18, 'min_samples_leaf': 6, 'max_features': 0.3693281174173072, 'bootstrap': False}. Best is trial 17 with value: 0.4778550592639997.\n",
      "[I 2025-08-21 21:11:19,729] Trial 26 finished with value: 0.47266164366685864 and parameters: {'n_estimators': 300, 'max_depth': 24, 'min_samples_split': 18, 'min_samples_leaf': 9, 'max_features': 0.4964438338839797, 'bootstrap': False}. Best is trial 17 with value: 0.4778550592639997.\n",
      "[I 2025-08-21 21:11:51,076] Trial 27 finished with value: 0.4731245450392151 and parameters: {'n_estimators': 800, 'max_depth': 12, 'min_samples_split': 7, 'min_samples_leaf': 7, 'max_features': 0.5713995577615295, 'bootstrap': False}. Best is trial 17 with value: 0.4778550592639997.\n",
      "[I 2025-08-21 21:12:18,142] Trial 28 finished with value: 0.4783703956606759 and parameters: {'n_estimators': 500, 'max_depth': 16, 'min_samples_split': 13, 'min_samples_leaf': 8, 'max_features': 0.6381668770474211, 'bootstrap': False}. Best is trial 28 with value: 0.4783703956606759.\n",
      "[I 2025-08-21 21:12:57,672] Trial 29 finished with value: 0.4751886511930345 and parameters: {'n_estimators': 700, 'max_depth': 19, 'min_samples_split': 13, 'min_samples_leaf': 9, 'max_features': 0.6618305302788813, 'bootstrap': False}. Best is trial 28 with value: 0.4783703956606759.\n"
     ]
    },
    {
     "data": {
      "text/plain": [
       "{'n_estimators': 500,\n",
       " 'max_depth': 16,\n",
       " 'min_samples_split': 13,\n",
       " 'min_samples_leaf': 8,\n",
       " 'max_features': 0.6381668770474211,\n",
       " 'bootstrap': False}"
      ]
     },
     "execution_count": 1,
     "metadata": {},
     "output_type": "execute_result"
    }
   ],
   "source": [
    "import pandas as pd\n",
    "from sklearn.pipeline import Pipeline\n",
    "from sklearn.ensemble import RandomForestClassifier\n",
    "from sklearn.metrics import f1_score\n",
    "\n",
    "from src.preprocessing import train_test_split_data, build_preprocessor\n",
    "from src.feature_selection import make_selector\n",
    "from src.hyperparameter_tuning import tune_random_forest\n",
    "\n",
    "# Load\n",
    "df = pd.read_csv(\"data/credit_clean.csv\")\n",
    "X_train, X_test, y_train, y_test = train_test_split_data(df)\n",
    "\n",
    "# Fit base preprocessor+selector and transform training data once\n",
    "pre = build_preprocessor(X_train)\n",
    "selector = make_selector()\n",
    "\n",
    "base_pipe = Pipeline([(\"pre\", pre), (\"sel\", selector)])\n",
    "Xtr = base_pipe.fit_transform(X_train, y_train)\n",
    "Xte = base_pipe.transform(X_test)\n",
    "\n",
    "# Tune RF on transformed training matrix\n",
    "study = tune_random_forest(Xtr, y_train.values, n_trials=30)\n",
    "study.best_params\n"
   ]
  },
  {
   "cell_type": "code",
   "execution_count": 2,
   "id": "10741395-9438-4ce6-9a82-15dfe14e0e0e",
   "metadata": {},
   "outputs": [
    {
     "name": "stdout",
     "output_type": "stream",
     "text": [
      "Tuned RF Test F1: 0.46308724832214765\n"
     ]
    }
   ],
   "source": [
    "best_rf = RandomForestClassifier(**study.best_params)\n",
    "best_rf.fit(Xtr, y_train)\n",
    "y_pred = best_rf.predict(Xte)\n",
    "print(\"Tuned RF Test F1:\", f1_score(y_test, y_pred))\n"
   ]
  },
  {
   "cell_type": "code",
   "execution_count": null,
   "id": "1afaeeae-f537-412d-8668-8a3db237e82f",
   "metadata": {},
   "outputs": [
    {
     "name": "stdout",
     "output_type": "stream",
     "text": [
      "              precision    recall  f1-score   support\n",
      "\n",
      "           0     0.8390    0.9409    0.8870      4673\n",
      "           1     0.6364    0.3640    0.4631      1327\n",
      "\n",
      "    accuracy                         0.8133      6000\n",
      "   macro avg     0.7377    0.6525    0.6751      6000\n",
      "weighted avg     0.7942    0.8133    0.7933      6000\n",
      "\n"
     ]
    },
    {
     "data": {
      "image/png": "[encoded data removed]",
      "text/plain": [
       "<Figure size 400x400 with 1 Axes>"
      ]
     },
     "metadata": {},
     "output_type": "display_data"
    }
   ],
   "source": [
    "from src.evaluation import print_report, plot_confusion, plot_roc\n",
    "\n",
    "print_report(y_test, y_pred)\n",
    "plot_confusion(y_test, y_pred)\n",
    "\n",
    "# For ROC, wrap the full pipeline so predict_proba works properly\n",
    "final_pipe = Pipeline([(\"pre\", pre), (\"sel\", selector), (\"clf\", best_rf)])\n",
    "final_pipe.fit(X_train, y_train)\n",
    "plot_roc(final_pipe, X_test, y_test)\n"
   ]
  },
  {
   "cell_type": "code",
   "execution_count": null,
   "id": "2ee41f31-b9bb-40b7-86b5-1a19cc5a00b7",
   "metadata": {},
   "outputs": [],
   "source": []
  }
 ],
 "metadata": {
  "kernelspec": {
   "display_name": "Python 3 (ipykernel)",
   "language": "python",
   "name": "python3"
  },
  "language_info": {
   "codemirror_mode": {
    "name": "ipython",
    "version": 3
   },
   "file_extension": ".py",
   "mimetype": "text/x-python",
   "name": "python",
   "nbconvert_exporter": "python",
   "pygments_lexer": "ipython3",
   "version": "3.9.13"
  }
 },
 "nbformat": 4,
 "nbformat_minor": 5
}
